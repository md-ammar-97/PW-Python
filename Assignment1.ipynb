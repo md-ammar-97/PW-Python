{
 "cells": [
  {
   "cell_type": "markdown",
   "id": "5310e011-020e-489a-aabf-cb20661b46e2",
   "metadata": {},
   "source": [
    "Question 1 - Create one variable containing following type of data"
   ]
  },
  {
   "cell_type": "code",
   "execution_count": 63,
   "id": "0456c6c7-3279-4226-afb9-4e11a32d887a",
   "metadata": {},
   "outputs": [],
   "source": [
    "#String\n",
    "a = \"Ammar\""
   ]
  },
  {
   "cell_type": "code",
   "execution_count": 1,
   "id": "4e077614-dfd8-4485-bf66-8460c9e9466a",
   "metadata": {},
   "outputs": [],
   "source": [
    "#List\n",
    "b = [3, \"Ammar\", 5.6]"
   ]
  },
  {
   "cell_type": "code",
   "execution_count": 2,
   "id": "9f63a614-4146-4c74-b835-02ba18682629",
   "metadata": {},
   "outputs": [],
   "source": [
    "#Float\n",
    "c = 4.5"
   ]
  },
  {
   "cell_type": "code",
   "execution_count": 3,
   "id": "74373cfb-6024-45d2-97c3-f51dec928022",
   "metadata": {},
   "outputs": [],
   "source": [
    "#Tuple\n",
    "d = (3, \"Ammar\", 5.6)"
   ]
  },
  {
   "cell_type": "markdown",
   "id": "4e0bff96-308f-426d-8810-49819d3b4d8d",
   "metadata": {},
   "source": [
    "Question 2 -  Given are some following variables containing data.\n",
    "What will be the data type of the above given variable."
   ]
  },
  {
   "cell_type": "code",
   "execution_count": 21,
   "id": "f1cfe1ef-5975-49ce-971b-7cfd975e233b",
   "metadata": {},
   "outputs": [],
   "source": [
    "var1 = ' '"
   ]
  },
  {
   "cell_type": "code",
   "execution_count": 22,
   "id": "31dbc25f-2070-4f46-b14d-0006fbb4ccd1",
   "metadata": {},
   "outputs": [
    {
     "name": "stdout",
     "output_type": "stream",
     "text": [
      "<class 'str'>\n"
     ]
    }
   ],
   "source": [
    "print(type(var1))"
   ]
  },
  {
   "cell_type": "code",
   "execution_count": 25,
   "id": "0b53fa5a-a914-46d2-8327-2a9442242682",
   "metadata": {},
   "outputs": [],
   "source": [
    "var2 = '[ DS , ML , Python]'"
   ]
  },
  {
   "cell_type": "code",
   "execution_count": 26,
   "id": "b1a06f56-3318-4dee-9d56-cf16b6a78c9c",
   "metadata": {},
   "outputs": [
    {
     "name": "stdout",
     "output_type": "stream",
     "text": [
      "<class 'str'>\n"
     ]
    }
   ],
   "source": [
    "print(type(var2))"
   ]
  },
  {
   "cell_type": "code",
   "execution_count": 29,
   "id": "50e87774-6d27-4937-8166-42184a0b8f2f",
   "metadata": {},
   "outputs": [],
   "source": [
    "var3 = [ 'DS' , 'ML' , 'Python' ]"
   ]
  },
  {
   "cell_type": "code",
   "execution_count": 30,
   "id": "a4ab2235-7064-4a14-8c46-fe99382b9680",
   "metadata": {},
   "outputs": [
    {
     "name": "stdout",
     "output_type": "stream",
     "text": [
      "<class 'list'>\n"
     ]
    }
   ],
   "source": [
    "print(type(var3))"
   ]
  },
  {
   "cell_type": "code",
   "execution_count": 31,
   "id": "c5186b5b-f667-4caf-98a9-4d61a9ab5875",
   "metadata": {},
   "outputs": [],
   "source": [
    "var4 = 1."
   ]
  },
  {
   "cell_type": "code",
   "execution_count": 32,
   "id": "12b94e77-0bcc-42db-a04c-9209b4601afc",
   "metadata": {},
   "outputs": [
    {
     "name": "stdout",
     "output_type": "stream",
     "text": [
      "<class 'float'>\n"
     ]
    }
   ],
   "source": [
    "print(type(var4))"
   ]
  },
  {
   "cell_type": "markdown",
   "id": "c788807f-0e3f-4c5b-b474-66b27ca7fe94",
   "metadata": {},
   "source": [
    "Q3. Explain the use of the following operators using an example:"
   ]
  },
  {
   "cell_type": "markdown",
   "id": "5019e26f-33f5-4729-9c0a-43690cdebe06",
   "metadata": {},
   "source": [
    "(i)\t/  : Used for divding"
   ]
  },
  {
   "cell_type": "code",
   "execution_count": 33,
   "id": "1462fd6c-a8c8-462e-a0f1-2c720a80ef4d",
   "metadata": {},
   "outputs": [
    {
     "data": {
      "text/plain": [
       "2.0"
      ]
     },
     "execution_count": 33,
     "metadata": {},
     "output_type": "execute_result"
    }
   ],
   "source": [
    "4/2"
   ]
  },
  {
   "cell_type": "markdown",
   "id": "6ddc19af-3ab2-4577-b373-6211b44a01ba",
   "metadata": {},
   "source": [
    "(ii)\t%  : It is the Modulas operator, it retirns the remainder."
   ]
  },
  {
   "cell_type": "code",
   "execution_count": 42,
   "id": "0db5a614-a5f2-4f63-ac99-2edf4512d25a",
   "metadata": {},
   "outputs": [
    {
     "data": {
      "text/plain": [
       "2"
      ]
     },
     "execution_count": 42,
     "metadata": {},
     "output_type": "execute_result"
    }
   ],
   "source": [
    "5 % 3"
   ]
  },
  {
   "cell_type": "markdown",
   "id": "2ebeca33-a73b-42ee-aa32-5ffa5dd3f875",
   "metadata": {},
   "source": [
    "(iii)\t// : Used for getting how many times a number will be divided"
   ]
  },
  {
   "cell_type": "code",
   "execution_count": 46,
   "id": "46fa0b96-395b-4735-b448-618ee04e92cf",
   "metadata": {},
   "outputs": [
    {
     "data": {
      "text/plain": [
       "8"
      ]
     },
     "execution_count": 46,
     "metadata": {},
     "output_type": "execute_result"
    }
   ],
   "source": [
    "40 // 5"
   ]
  },
  {
   "cell_type": "markdown",
   "id": "664b6c5e-66f7-4e01-b298-682bcea5fad4",
   "metadata": {},
   "source": [
    "(iv)\t** : Used for exponential."
   ]
  },
  {
   "cell_type": "code",
   "execution_count": 47,
   "id": "81e52945-f29d-4219-b2a1-8e1697409426",
   "metadata": {},
   "outputs": [
    {
     "data": {
      "text/plain": [
       "625"
      ]
     },
     "execution_count": 47,
     "metadata": {},
     "output_type": "execute_result"
    }
   ],
   "source": [
    "5 ** 4"
   ]
  },
  {
   "cell_type": "markdown",
   "id": "803af9d8-6ecd-4f10-9833-34b9ad00c4a1",
   "metadata": {},
   "source": [
    "Q4. Create a list of length 10 of your choice containing multiple types of data. Using for loop print the element and its data type."
   ]
  },
  {
   "cell_type": "code",
   "execution_count": 4,
   "id": "7a925a4f-7921-4fcd-b932-214bda90ba20",
   "metadata": {},
   "outputs": [],
   "source": [
    "Q4_List = [2, \"Grey\", 8.9, \"Cat\", (34, 56), False, 0.87, 4, 7, 'Phone']"
   ]
  },
  {
   "cell_type": "code",
   "execution_count": 5,
   "id": "0120947e-4758-4def-aa22-15db9038154c",
   "metadata": {},
   "outputs": [],
   "source": [
    "Q4_L = len(Q4_List)"
   ]
  },
  {
   "cell_type": "code",
   "execution_count": 6,
   "id": "731b4c8d-513e-4ff0-9422-e4804a088dbb",
   "metadata": {},
   "outputs": [
    {
     "name": "stdout",
     "output_type": "stream",
     "text": [
      "10\n"
     ]
    }
   ],
   "source": [
    "print(Q4_L)"
   ]
  },
  {
   "cell_type": "code",
   "execution_count": 7,
   "id": "1b8d9b7d-5169-4b6b-947e-05e87168e541",
   "metadata": {},
   "outputs": [
    {
     "name": "stdout",
     "output_type": "stream",
     "text": [
      "2 - <class 'int'>\n",
      "Grey - <class 'str'>\n",
      "8.9 - <class 'float'>\n",
      "Cat - <class 'str'>\n",
      "(34, 56) - <class 'tuple'>\n",
      "False - <class 'bool'>\n",
      "0.87 - <class 'float'>\n",
      "4 - <class 'int'>\n",
      "7 - <class 'int'>\n",
      "Phone - <class 'str'>\n"
     ]
    }
   ],
   "source": [
    "for item in Q4_List:\n",
    "    print(f\"{item} - {type(item)}\")\n"
   ]
  },
  {
   "cell_type": "markdown",
   "id": "7a3bf83b-5d27-4ab3-925d-93e5caafb182",
   "metadata": {},
   "source": [
    "Q5. Using a while loop, verify if the number A is purely divisible by number B and if so then how many times it can be divisible."
   ]
  },
  {
   "cell_type": "code",
   "execution_count": 18,
   "id": "852975ea-fbb7-48c3-809b-e69d18c98992",
   "metadata": {},
   "outputs": [
    {
     "name": "stdin",
     "output_type": "stream",
     "text": [
      "Enter number A:  50\n",
      "Enter number B:  5\n"
     ]
    },
    {
     "name": "stdout",
     "output_type": "stream",
     "text": [
      "Entered Numbers are: \n",
      " A = 50 \n",
      " B = 5\n",
      "Calculating.......\n"
     ]
    },
    {
     "ename": "KeyboardInterrupt",
     "evalue": "",
     "output_type": "error",
     "traceback": [
      "\u001b[0;31m---------------------------------------------------------------------------\u001b[0m",
      "\u001b[0;31mKeyboardInterrupt\u001b[0m                         Traceback (most recent call last)",
      "Cell \u001b[0;32mIn[18], line 11\u001b[0m\n\u001b[1;32m      9\u001b[0m \u001b[38;5;28;01melse\u001b[39;00m:\n\u001b[1;32m     10\u001b[0m     count \u001b[38;5;241m=\u001b[39m \u001b[38;5;241m0\u001b[39m\n\u001b[0;32m---> 11\u001b[0m     \u001b[38;5;28;01mwhile\u001b[39;00m No_A \u001b[38;5;241m%\u001b[39m No_B \u001b[38;5;241m==\u001b[39m \u001b[38;5;241m0\u001b[39m \u001b[38;5;129;01mand\u001b[39;00m No_A \u001b[38;5;241m!=\u001b[39m \u001b[38;5;241m0\u001b[39m:\n\u001b[1;32m     12\u001b[0m         No_C \u001b[38;5;241m=\u001b[39m No_A \u001b[38;5;241m/\u001b[39m\u001b[38;5;241m/\u001b[39m No_B  \n\u001b[1;32m     13\u001b[0m         count \u001b[38;5;241m+\u001b[39m\u001b[38;5;241m=\u001b[39m \u001b[38;5;241m1\u001b[39m\n",
      "\u001b[0;31mKeyboardInterrupt\u001b[0m: "
     ]
    }
   ],
   "source": [
    "No_A = int(input(\"Enter number A: \"))\n",
    "No_B = int(input(\"Enter number B: \"))\n",
    "\n",
    "print(f\"Entered Numbers are: \\n A = {No_A} \\n B = {No_B}\") \n",
    "print(\"Calculating.......\")\n",
    "\n",
    "if No_A < No_B:\n",
    "    print(\"B should be smaller than A, try again\")    \n",
    "else:\n",
    "    count = 0\n",
    "    while No_A % No_B == 0 and No_A != 0:\n",
    "        No_C = No_A // No_B  \n",
    "        count += 1\n",
    "        \n",
    "    if count > 0:\n",
    "        print(f\"A is purely divisible by B {count} times {No_C}\")\n",
    "    else:\n",
    "        print(\"A is not purely divisible by B.\")\n"
   ]
  },
  {
   "cell_type": "code",
   "execution_count": 19,
   "id": "28f2640d-3347-4394-8fe9-113fc4659235",
   "metadata": {},
   "outputs": [
    {
     "data": {
      "text/plain": [
       "0"
      ]
     },
     "execution_count": 19,
     "metadata": {},
     "output_type": "execute_result"
    }
   ],
   "source": [
    "50%5"
   ]
  },
  {
   "cell_type": "markdown",
   "id": "25c13ece-b174-413f-9472-40b1ea42dce2",
   "metadata": {},
   "source": [
    "Q6. Create a list containing 25 int type data. Using for loop and if-else condition print if the element is divisible by 3 or not."
   ]
  },
  {
   "cell_type": "code",
   "execution_count": 28,
   "id": "cc77507c-38e1-4b2f-8407-fb02f880e512",
   "metadata": {},
   "outputs": [
    {
     "name": "stdout",
     "output_type": "stream",
     "text": [
      "1 is NOT divisible by 3\n",
      "2 is NOT divisible by 3\n",
      "3 is divisble by 3\n",
      "4 is NOT divisible by 3\n",
      "5 is NOT divisible by 3\n",
      "6 is divisble by 3\n",
      "7 is NOT divisible by 3\n",
      "8 is NOT divisible by 3\n",
      "9 is divisble by 3\n",
      "10 is NOT divisible by 3\n",
      "11 is NOT divisible by 3\n",
      "12 is divisble by 3\n",
      "13 is NOT divisible by 3\n",
      "14 is NOT divisible by 3\n",
      "15 is divisble by 3\n",
      "16 is NOT divisible by 3\n",
      "17 is NOT divisible by 3\n",
      "18 is divisble by 3\n",
      "19 is NOT divisible by 3\n",
      "20 is NOT divisible by 3\n",
      "21 is divisble by 3\n",
      "22 is NOT divisible by 3\n",
      "23 is NOT divisible by 3\n",
      "24 is divisble by 3\n",
      "25 is NOT divisible by 3\n"
     ]
    }
   ],
   "source": [
    "I_List = [ 1,2,3,4,5,6,7,8,9,10,11,12,13,14,15,16,17,18,19,20,21,22,23,24,25 ] \n",
    "\n",
    "for i in I_List:\n",
    "    if i % 3 == 0: \n",
    "        print(f\"{i} is divisble by 3\")\n",
    "    else:\n",
    "        print(f\"{i} is NOT divisible by 3\")"
   ]
  },
  {
   "cell_type": "markdown",
   "id": "bb4540db-c735-4ab9-91ae-c07527e87696",
   "metadata": {},
   "source": [
    "Q7. What do you understand about mutable and immutable data types? Give examples for both showing \n",
    "this property."
   ]
  },
  {
   "cell_type": "markdown",
   "id": "3146233e-c7dc-420a-a876-48ac3ebbc1f8",
   "metadata": {},
   "source": [
    "Mutable: These are the ones in which there elements can be altered / changed anytime\n",
    "example: Lists"
   ]
  },
  {
   "cell_type": "code",
   "execution_count": 40,
   "id": "0a1c8222-2cb9-4b49-b302-43916c4db72a",
   "metadata": {},
   "outputs": [
    {
     "name": "stdout",
     "output_type": "stream",
     "text": [
      "[1, 2, 3, 4]\n",
      "[1, 20, 3, 4]\n"
     ]
    }
   ],
   "source": [
    "I_L = [1,2,3,4]\n",
    "print(I_L)\n",
    "I_L[1] = 20 \n",
    "print(I_L)"
   ]
  },
  {
   "cell_type": "markdown",
   "id": "a392d444-84a7-4a20-8e93-d45ed7b7199d",
   "metadata": {},
   "source": [
    "Immutable: Once made, elements cannot be changed\n",
    "example: Tuples"
   ]
  },
  {
   "cell_type": "code",
   "execution_count": 42,
   "id": "db6653fe-92cd-4d19-b065-1644a34b290f",
   "metadata": {},
   "outputs": [
    {
     "name": "stdout",
     "output_type": "stream",
     "text": [
      "(2, 3, 4)\n"
     ]
    },
    {
     "ename": "TypeError",
     "evalue": "'tuple' object does not support item assignment",
     "output_type": "error",
     "traceback": [
      "\u001b[0;31m---------------------------------------------------------------------------\u001b[0m",
      "\u001b[0;31mTypeError\u001b[0m                                 Traceback (most recent call last)",
      "Cell \u001b[0;32mIn[42], line 3\u001b[0m\n\u001b[1;32m      1\u001b[0m A \u001b[38;5;241m=\u001b[39m (\u001b[38;5;241m2\u001b[39m,\u001b[38;5;241m3\u001b[39m,\u001b[38;5;241m4\u001b[39m)\n\u001b[1;32m      2\u001b[0m \u001b[38;5;28mprint\u001b[39m(A)\n\u001b[0;32m----> 3\u001b[0m \u001b[43mA\u001b[49m\u001b[43m[\u001b[49m\u001b[38;5;241;43m1\u001b[39;49m\u001b[43m]\u001b[49m \u001b[38;5;241m=\u001b[39m \u001b[38;5;241m7\u001b[39m\n",
      "\u001b[0;31mTypeError\u001b[0m: 'tuple' object does not support item assignment"
     ]
    }
   ],
   "source": [
    "A = (2,3,4)\n",
    "print(A)\n",
    "A[1] = 7 #Will give error"
   ]
  }
 ],
 "metadata": {
  "kernelspec": {
   "display_name": "Python 3 (ipykernel)",
   "language": "python",
   "name": "python3"
  },
  "language_info": {
   "codemirror_mode": {
    "name": "ipython",
    "version": 3
   },
   "file_extension": ".py",
   "mimetype": "text/x-python",
   "name": "python",
   "nbconvert_exporter": "python",
   "pygments_lexer": "ipython3",
   "version": "3.10.8"
  }
 },
 "nbformat": 4,
 "nbformat_minor": 5
}
